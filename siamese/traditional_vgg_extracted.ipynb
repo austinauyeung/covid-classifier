{
 "cells": [
  {
   "cell_type": "code",
   "execution_count": null,
   "metadata": {},
   "outputs": [],
   "source": [
    "import glob\n",
    "import numpy as np\n",
    "import os\n",
    "import random\n",
    "import keras\n",
    "import tensorflow as tf\n",
    "import helpers as hp\n",
    "from keras.preprocessing.image import ImageDataGenerator, load_img, img_to_array, array_to_img\n",
    "from keras.layers import Input, Lambda, Dense, Dropout, BatchNormalization\n",
    "from keras.models import Model, load_model\n",
    "from keras import optimizers\n",
    "from keras.utils import to_categorical\n",
    "from tensorflow.python.client import device_lib\n",
    "import pickle\n",
    "\n",
    "print(device_lib.list_local_devices())\n",
    "print(\"Number of GPUs available: \", len(tf.config.experimental.list_physical_devices('GPU')))\n",
    "print()"
   ]
  },
  {
   "cell_type": "code",
   "execution_count": null,
   "metadata": {},
   "outputs": [],
   "source": [
    "source_cov = hp.source_cov\n",
    "source_pne = hp.source_pne\n",
    "source_hea = hp.source_hea\n",
    "\n",
    "# set to image directory\n",
    "cov = glob.glob(source_cov+'*')\n",
    "pne = glob.glob(source_pne+'*')\n",
    "hea = glob.glob(source_hea+'*')\n",
    "\n",
    "# parameters\n",
    "cov_train_num = hp.cov_train_num\n",
    "pne_train_num = hp.pne_train_num\n",
    "hea_train_num = hp.hea_train_num\n",
    "\n",
    "# select random subset of images for training\n",
    "with open('directory_siamese.pkl','rb') as f:\n",
    "\tcov_train, pne_train = pickle.load(f)\n",
    "cov_train = [source_cov+img.split(os.sep)[-1] for img in cov_train]\n",
    "pne_train = [source_pne+img.split(os.sep)[-1] for img in pne_train]\n",
    "\n",
    "cov_test = list(set(cov)-set(cov_train))\n",
    "pne_test = list(set(pne)-set(pne_train))\n",
    "\n",
    "cov_test_num = len(cov_test)\n",
    "pne_test_num = len(pne_test)\n",
    "\n",
    "print('COVID training set size: '+str(cov_train_num))\n",
    "print('Pneumonia training set size: '+str(pne_train_num))\n",
    "print('Total training set size: '+str(cov_train_num+pne_train_num))\n",
    "print()\n",
    "print('COVID testing set size: '+str(cov_test_num))\n",
    "print('Pneumonia testing set size: '+str(pne_test_num))\n",
    "print('Total testing set size: '+str(cov_test_num+pne_test_num))\n",
    "print()\n",
    "\n",
    "IMG_WIDTH = 224\n",
    "IMG_HEIGHT = 224\n",
    "IMG_DIM = (IMG_WIDTH,IMG_HEIGHT)\n",
    "\n",
    "# load training images and create corresponding labels\n",
    "cov_train_imgs = [img_to_array(load_img(img,target_size=IMG_DIM,color_mode=\"rgb\")) for img in cov_train]\n",
    "pne_train_imgs = [img_to_array(load_img(img,target_size=IMG_DIM,color_mode=\"rgb\")) for img in pne_train]\n",
    "train_imgs = np.array(cov_train_imgs+pne_train_imgs)\n",
    "train_imgs = train_imgs.astype('float32')/255\n",
    "train_labels = np.array(cov_train_num*[1]+pne_train_num*[0])\n",
    "train_labels = to_categorical(train_labels)\n",
    "\n",
    "# load test images and create corresponding labels\n",
    "cov_test_imgs = [img_to_array(load_img(img,target_size=IMG_DIM,color_mode=\"rgb\")) for img in cov_test]\n",
    "pne_test_imgs = [img_to_array(load_img(img,target_size=IMG_DIM,color_mode=\"rgb\")) for img in pne_test]\n",
    "test_imgs = np.array(cov_test_imgs+pne_test_imgs)\n",
    "test_imgs = test_imgs.astype('float32')/255\n",
    "test_labels = np.array(cov_test_num*[1]+pne_test_num*[0])\n",
    "test_labels = to_categorical(test_labels)"
   ]
  },
  {
   "cell_type": "code",
   "execution_count": null,
   "metadata": {},
   "outputs": [],
   "source": [
    "# load weights from siamese network\n",
    "adm = optimizers.Adam(lr=0.0001)\n",
    "vgg_siamese = load_model('vggtwin_tr4096_ep20_g1.h5',compile=False)\n",
    "vgg_siamese.compile(loss=hp.contrastive_loss, optimizer=adm, metrics=[hp.accuracy])\n",
    "\n",
    "# create traditional classifier\n",
    "input_shape = (IMG_HEIGHT,IMG_WIDTH,train_imgs.shape[3])\n",
    "extracted_network = vgg_siamese.get_layer('model_1')\n",
    "extracted_network.summary()\n",
    "x = extracted_network.layers[-1].output\n",
    "x = BatchNormalization()(x)\n",
    "x = Dense(2, activation='softmax', name=\"dense_3\")(x)\n",
    "vgg_traditional = Model(extracted_network.layers[0].input,x)\n",
    "for layer in vgg_traditional.layers[:-2]:\n",
    "\tlayer.trainable=False"
   ]
  },
  {
   "cell_type": "code",
   "execution_count": null,
   "metadata": {},
   "outputs": [],
   "source": [
    "# train model\n",
    "batch_size=10\n",
    "epochs = 25\n",
    "adm = optimizers.Adam(lr=1e-5)\n",
    "vgg_traditional.compile(loss='categorical_crossentropy', optimizer=adm, metrics=['accuracy'])\n",
    "vgg_traditional.summary()\n",
    "vgg_traditional.fit(train_imgs,train_labels,\n",
    "\tbatch_size=batch_size,\n",
    "\tepochs=epochs,\n",
    "\tvalidation_data=(test_imgs[:100],test_labels[:100]),\n",
    "\tshuffle=True)\n",
    "\n",
    "train_labels_pred = vgg_traditional.predict(train_imgs)\n",
    "train_acc = np.mean(np.argmax(train_labels,axis=1)==np.argmax(train_labels_pred,axis=1))\n",
    "test_labels_pred = vgg_traditional.predict(test_imgs)\n",
    "test_acc = np.mean(np.argmax(test_labels,axis=1)==np.argmax(test_labels_pred,axis=1))\n",
    "\n",
    "print('* Accuracy on training set: %0.2f%%' % (100 * train_acc))\n",
    "print('* Accuracy on test set: %0.2f%%' % (100 * test_acc))\n",
    "print()\n",
    "\n",
    "tp,tn,fp,fn,sensitivity,specificity = hp.generate_metrics(np.argmax(test_labels,axis=1),np.argmax(test_labels_pred,axis=1))\n",
    "print('True positives: '+str(tp))\n",
    "print('True negatives: '+str(tn))\n",
    "print('False positives: '+str(fp))\n",
    "print('False negatives: '+str(fn))\n",
    "print('Sensitivity: '+str(sensitivity))\n",
    "print('Specificity: '+str(specificity))"
   ]
  }
 ],
 "metadata": {
  "kernelspec": {
   "display_name": "Python 3",
   "language": "python",
   "name": "python3"
  },
  "language_info": {
   "codemirror_mode": {
    "name": "ipython",
    "version": 3
   },
   "file_extension": ".py",
   "mimetype": "text/x-python",
   "name": "python",
   "nbconvert_exporter": "python",
   "pygments_lexer": "ipython3",
   "version": "3.7.7"
  },
  "toc": {
   "base_numbering": 1,
   "nav_menu": {},
   "number_sections": true,
   "sideBar": true,
   "skip_h1_title": false,
   "title_cell": "Table of Contents",
   "title_sidebar": "Contents",
   "toc_cell": false,
   "toc_position": {},
   "toc_section_display": true,
   "toc_window_display": false
  },
  "varInspector": {
   "cols": {
    "lenName": 16,
    "lenType": 16,
    "lenVar": 40
   },
   "kernels_config": {
    "python": {
     "delete_cmd_postfix": "",
     "delete_cmd_prefix": "del ",
     "library": "var_list.py",
     "varRefreshCmd": "print(var_dic_list())"
    },
    "r": {
     "delete_cmd_postfix": ") ",
     "delete_cmd_prefix": "rm(",
     "library": "var_list.r",
     "varRefreshCmd": "cat(var_dic_list()) "
    }
   },
   "types_to_exclude": [
    "module",
    "function",
    "builtin_function_or_method",
    "instance",
    "_Feature"
   ],
   "window_display": true
  }
 },
 "nbformat": 4,
 "nbformat_minor": 2
}
